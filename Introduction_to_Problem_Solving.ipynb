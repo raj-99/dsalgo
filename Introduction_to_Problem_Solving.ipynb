{
  "nbformat": 4,
  "nbformat_minor": 0,
  "metadata": {
    "colab": {
      "provenance": [],
      "authorship_tag": "ABX9TyPvcfuUy/vLMzH2doLfbWU1",
      "include_colab_link": true
    },
    "kernelspec": {
      "name": "python3",
      "display_name": "Python 3"
    },
    "language_info": {
      "name": "python"
    }
  },
  "cells": [
    {
      "cell_type": "markdown",
      "metadata": {
        "id": "view-in-github",
        "colab_type": "text"
      },
      "source": [
        "<a href=\"https://colab.research.google.com/github/raj-99/dsalgo/blob/main/Introduction_to_Problem_Solving.ipynb\" target=\"_parent\"><img src=\"https://colab.research.google.com/assets/colab-badge.svg\" alt=\"Open In Colab\"/></a>"
      ]
    },
    {
      "cell_type": "markdown",
      "source": [
        "FACTORS"
      ],
      "metadata": {
        "id": "KZBc3YbUFVR_"
      }
    },
    {
      "cell_type": "code",
      "execution_count": 5,
      "metadata": {
        "colab": {
          "base_uri": "https://localhost:8080/"
        },
        "id": "osSoC7SI5rhm",
        "outputId": "f94399a8-d3fd-4d8a-8436-e78643e0eca7"
      },
      "outputs": [
        {
          "output_type": "stream",
          "name": "stdout",
          "text": [
            "8\n",
            "9\n"
          ]
        }
      ],
      "source": [
        "def countFactors(n):\n",
        "  ans = 0\n",
        "  for i in range(1,n+1):\n",
        "    if n%i == 0:\n",
        "      ans += 1\n",
        "  return ans\n",
        "\n",
        "print(countFactors(24))\n",
        "print(countFactors(100))"
      ]
    },
    {
      "cell_type": "code",
      "source": [
        "# Optimized solution for root n iterations\n",
        "\n",
        "def countFactors(n):\n",
        "  ans = 0\n",
        "  i=1\n",
        "  while i*i <= n:\n",
        "    if n%i == 0:\n",
        "      if i == n/i:\n",
        "       ans += 1\n",
        "      else:\n",
        "        ans += 2\n",
        "    i += 1\n",
        "\n",
        "  return ans\n",
        "\n",
        "print(countFactors(24))\n",
        "print(countFactors(100))"
      ],
      "metadata": {
        "colab": {
          "base_uri": "https://localhost:8080/"
        },
        "id": "rZtl5Z3sGHe8",
        "outputId": "a1e560d9-55b5-4c0e-e2ef-3dcbc5f6d080"
      },
      "execution_count": 7,
      "outputs": [
        {
          "output_type": "stream",
          "name": "stdout",
          "text": [
            "8\n",
            "9\n"
          ]
        }
      ]
    },
    {
      "cell_type": "code",
      "source": [
        "#same code using for loop\n",
        "def countFactors(n):\n",
        "  ans = 0\n",
        "  i=1\n",
        "  for i in range(1,int(n**0.5) + 1):\n",
        "    if n%i == 0:\n",
        "      if i == n/i:\n",
        "       ans += 1\n",
        "      else:\n",
        "        ans += 2\n",
        "    i += 1\n",
        "  return ans\n",
        "\n",
        "print(countFactors(24))\n",
        "print(countFactors(100))"
      ],
      "metadata": {
        "colab": {
          "base_uri": "https://localhost:8080/"
        },
        "id": "G-heooDgJWtC",
        "outputId": "c8a84f50-4403-406f-b4f2-ea1d90a472b3"
      },
      "execution_count": 14,
      "outputs": [
        {
          "output_type": "stream",
          "name": "stdout",
          "text": [
            "8\n",
            "9\n"
          ]
        }
      ]
    },
    {
      "cell_type": "markdown",
      "source": [
        "PRIME NUMBERS\n",
        "\n",
        "prime numbers are those which have exactly 2 factors"
      ],
      "metadata": {
        "id": "4RpK29FWK5Xv"
      }
    },
    {
      "cell_type": "code",
      "source": [
        "def isPrime(n):\n",
        "  if(countFactors(n) == 2):\n",
        "    return True\n",
        "  else:\n",
        "    return False\n",
        "\n",
        "ls = [10,11,13,15,17,19,21,23,27,31]\n",
        "\n",
        "for val in ls:\n",
        "  print(val, '->', isPrime(val))"
      ],
      "metadata": {
        "colab": {
          "base_uri": "https://localhost:8080/"
        },
        "id": "LBdHK40ENF3A",
        "outputId": "9a737518-be2b-453f-cb71-0d8e63400eca"
      },
      "execution_count": 15,
      "outputs": [
        {
          "output_type": "stream",
          "name": "stdout",
          "text": [
            "10 -> False\n",
            "11 -> True\n",
            "13 -> True\n",
            "15 -> False\n",
            "17 -> True\n",
            "19 -> True\n",
            "21 -> False\n",
            "23 -> True\n",
            "27 -> False\n",
            "31 -> True\n"
          ]
        }
      ]
    },
    {
      "cell_type": "markdown",
      "source": [
        "GP Formula:\n",
        "\n",
        "a((r ** n)-1)/(r-1)"
      ],
      "metadata": {
        "id": "qy1tTZPiQS1-"
      }
    }
  ]
}